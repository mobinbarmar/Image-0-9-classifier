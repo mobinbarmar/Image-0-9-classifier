{
  "cells": [
    {
      "cell_type": "code",
      "execution_count": 1,
      "metadata": {
        "id": "V-gsVmpThVvD"
      },
      "outputs": [],
      "source": [
        "import numpy as np\n",
        "import pandas as pd\n",
        "\n",
        "import tensorflow as tf\n",
        "\n",
        "\n",
        "mnist = tf.keras.datasets.mnist"
      ]
    },
    {
      "cell_type": "code",
      "execution_count": 28,
      "metadata": {
        "id": "ufC6DK9iiD1g"
      },
      "outputs": [],
      "source": [
        "(X_train, Y_train), (X_test, Y_test) = mnist.load_data()\n",
        "X_train, X_test = X_train / 255.0, X_test / 255.0"
      ]
    },
    {
      "cell_type": "code",
      "execution_count": null,
      "metadata": {
        "colab": {
          "base_uri": "https://localhost:8080/"
        },
        "id": "1Zk5o0cFiFmY",
        "outputId": "b1e7ff16-1a24-4c69-dbb1-1aab8547b039"
      },
      "outputs": [],
      "source": [
        "model = tf.keras.models.Sequential([ \n",
        "    tf.keras.layers.Flatten(input_shape=(28, 28)), \n",
        "    tf.keras.layers.Dense(128, activation='relu'),\n",
        "    tf.keras.layers.Dropout(0.2), \n",
        "    tf.keras.layers.Dense(10),\n",
        "    tf.keras.layers.Softmax()\n",
        "])"
      ]
    },
    {
      "cell_type": "code",
      "execution_count": 35,
      "metadata": {
        "colab": {
          "base_uri": "https://localhost:8080/"
        },
        "id": "emofF7b7kjR5",
        "outputId": "7ad49dad-2a03-4402-ef41-99be7cb0ba18"
      },
      "outputs": [
        {
          "data": {
            "text/plain": [
              "array([[0.07928694, 0.07359226, 0.09490957, 0.17218505, 0.09986115,\n",
              "        0.09868035, 0.14745034, 0.07690495, 0.09701853, 0.0601109 ]],\n",
              "      dtype=float32)"
            ]
          },
          "execution_count": 35,
          "metadata": {},
          "output_type": "execute_result"
        }
      ],
      "source": [
        "predictions = model(X_train[:1]).numpy()\n",
        "predictions"
      ]
    },
    {
      "cell_type": "code",
      "execution_count": 44,
      "metadata": {
        "id": "0FqZr9_HlDYh"
      },
      "outputs": [],
      "source": [
        "loss_fn = tf.keras.losses.SparseCategoricalCrossentropy(from_logits=True)"
      ]
    },
    {
      "cell_type": "code",
      "execution_count": 47,
      "metadata": {
        "id": "_S0fYPwrlEw3"
      },
      "outputs": [],
      "source": [
        "model.compile(optimizer='adam', loss=loss_fn, metrics=['accuracy'])"
      ]
    },
    {
      "cell_type": "code",
      "execution_count": null,
      "metadata": {
        "colab": {
          "base_uri": "https://localhost:8080/",
          "height": 388
        },
        "id": "IsQ8VtFDnHwp",
        "outputId": "e4e27314-1c33-4594-d20a-3de41547fc19"
      },
      "outputs": [],
      "source": [
        "model.fit(X_train, Y_train, epochs=5)"
      ]
    },
    {
      "cell_type": "code",
      "execution_count": 39,
      "metadata": {
        "colab": {
          "base_uri": "https://localhost:8080/"
        },
        "id": "qaJqvHOSnLlo",
        "outputId": "6e59b2bd-cf62-41a0-c5a6-07e3abb93563"
      },
      "outputs": [
        {
          "name": "stdout",
          "output_type": "stream",
          "text": [
            "\u001b[1m313/313\u001b[0m \u001b[32m━━━━━━━━━━━━━━━━━━━━\u001b[0m\u001b[37m\u001b[0m \u001b[1m1s\u001b[0m 2ms/step - accuracy: 0.9720 - loss: 0.0960\n"
          ]
        },
        {
          "data": {
            "text/plain": [
              "[0.07899201661348343, 0.9754999876022339]"
            ]
          },
          "execution_count": 39,
          "metadata": {},
          "output_type": "execute_result"
        }
      ],
      "source": [
        "model.evaluate(X_test, Y_test)"
      ]
    },
    {
      "cell_type": "code",
      "execution_count": 41,
      "metadata": {
        "colab": {
          "base_uri": "https://localhost:8080/"
        },
        "id": "Cs1xn_ZhnzSm",
        "outputId": "b705fec6-2f55-4db2-f6d3-cdf151e62869"
      },
      "outputs": [
        {
          "data": {
            "text/plain": [
              "array([[0.000e+00, 0.000e+00, 0.000e+00, 0.000e+00, 0.000e+00, 0.000e+00,\n",
              "        0.000e+00, 1.000e+00, 0.000e+00, 0.000e+00],\n",
              "       [0.000e+00, 4.300e-03, 9.956e-01, 1.000e-04, 0.000e+00, 0.000e+00,\n",
              "        0.000e+00, 0.000e+00, 0.000e+00, 0.000e+00],\n",
              "       [0.000e+00, 9.983e-01, 1.000e-04, 0.000e+00, 0.000e+00, 0.000e+00,\n",
              "        0.000e+00, 1.300e-03, 1.000e-04, 0.000e+00],\n",
              "       [9.994e-01, 0.000e+00, 1.000e-04, 0.000e+00, 0.000e+00, 0.000e+00,\n",
              "        1.000e-04, 4.000e-04, 0.000e+00, 1.000e-04],\n",
              "       [0.000e+00, 0.000e+00, 0.000e+00, 0.000e+00, 9.753e-01, 0.000e+00,\n",
              "        0.000e+00, 5.000e-04, 0.000e+00, 2.420e-02]], dtype=float32)"
            ]
          },
          "execution_count": 41,
          "metadata": {},
          "output_type": "execute_result"
        }
      ],
      "source": [
        "np.round(model(X_test[:5]).numpy(), 4)"
      ]
    },
    {
      "cell_type": "code",
      "execution_count": null,
      "metadata": {
        "id": "LvYn5PZnpF3Z"
      },
      "outputs": [],
      "source": []
    }
  ],
  "metadata": {
    "colab": {
      "provenance": []
    },
    "kernelspec": {
      "display_name": "Python 3",
      "name": "python3"
    },
    "language_info": {
      "name": "python"
    }
  },
  "nbformat": 4,
  "nbformat_minor": 0
}
